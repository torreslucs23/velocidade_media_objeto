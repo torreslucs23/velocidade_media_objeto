{
 "cells": [
  {
   "cell_type": "code",
   "execution_count": 3,
   "id": "1680a119",
   "metadata": {},
   "outputs": [
    {
     "name": "stdout",
     "output_type": "stream",
     "text": [
      "3.260869565217391 m/s\n",
      "0.7666666666666667 segundos\n"
     ]
    }
   ],
   "source": [
    "import cv2\n",
    "import datetime\n",
    "\n",
    "#funcao para calcular velocidade media\n",
    "def calcula_vm(tempo):\n",
    "    return 2.5/tempo\n",
    "\n",
    "#cria objeto rastreador do CSRT\n",
    "rastreador = cv2.TrackerCSRT_create()\n",
    "\n",
    "bola = 'bola_5.mp4'\n",
    "\n",
    "#captura dados do video\n",
    "dados = cv2.VideoCapture(bola) \n",
    "\n",
    "#captura o fps do video\n",
    "fps = dados.get(cv2.CAP_PROP_FPS) \n",
    "\n",
    "#captura o video\n",
    "video =  cv2.VideoCapture(bola)\n",
    "\n",
    "#variaveis para testar se video esta rodando e frame atual\n",
    "ok, frame = video.read()\n",
    "\n",
    "#funcao para selecionar bbox do primeiro frame\n",
    "bbox = cv2.selectROI(frame) #region of interest\n",
    "\n",
    "#salva variaveis da posicao da bbox\n",
    "(x, y, w, h) = [int(v) for v in bbox]\n",
    "\n",
    "#inicia rastreador\n",
    "ok = rastreador.init(frame, bbox)\n",
    "\n",
    "#conta os frames quando a bola inicia o movimento ate o final\n",
    "cont = 1\n",
    "\n",
    "#flags uteis para o algoritmo\n",
    "#flag moveu para saber se a bola iniciou o movimento\n",
    "flag = False\n",
    "moveu = False\n",
    "\n",
    "while True:\n",
    "    ok, frame = video.read()\n",
    "    if not ok:\n",
    "        break\n",
    "    \n",
    "    #atualiza rastreador\n",
    "    ok, bbox = rastreador.update(frame)\n",
    "    \n",
    "    #variaveis para comparar com coordenadas anteriores e checar se a bola ja se movimentou\n",
    "    (a, b, c, d) = [int(v) for v in bbox]\n",
    "    \n",
    "    # se a bola ja se movimentou, comeca a contar os frames para contabilizar o tempo\n",
    "    if abs(a-x) >= 5 or moveu == True:\n",
    "        moveu = True\n",
    "        cont+=1\n",
    "        \n",
    "    #atualiza coordenadas\n",
    "    x,y,w,h = a,b,c,d\n",
    "    \n",
    "    #desenha bbox\n",
    "    if ok:\n",
    "        cv2.rectangle(frame, (x, y), (x+w, y+w), (0, 255,0), 2, 1)\n",
    "        \n",
    "    #encerra algoritmo e imprime a velocidade media e o tempo percorrido\n",
    "    else:\n",
    "        segundos = cont/fps\n",
    "        vm = calcula_vm(segundos) \n",
    "        print(str(vm), 'm/s')\n",
    "        print(segundos, 'segundos')\n",
    "        flag = True\n",
    "        cv2.putText(frame, str(vm)+' m/s', (100, 80), cv2.FONT_HERSHEY_SIMPLEX, 1, (0,0,255), 2)\n",
    "        break\n",
    "    \n",
    "    #imprime o frame atual\n",
    "    cv2.imshow('rastreamento', frame)\n",
    "    \n",
    "    #comando para caso seja teclado esc, parar execucao\n",
    "    if cv2.waitKey(1) & 0XFF == 27:\n",
    "        break\n",
    "        \n",
    "#checa a velocidade media e o tempo quando acaba o video tambem, caso nao tenha acabado antes\n",
    "if not flag:\n",
    "    segundos = cont/fps\n",
    "    vm = calcula_vm(segundos)\n",
    "    print(str(vm), 'm/s')\n",
    "    print(segundos, 'segundos')\n",
    "    cv2.putText(frame, str(vm)+' m/s', (100, 80), cv2.FONT_HERSHEY_SIMPLEX, 1, (0,0,255), 2)\n",
    "    "
   ]
  },
  {
   "cell_type": "code",
   "execution_count": 3,
   "id": "39a6db8c",
   "metadata": {},
   "outputs": [
    {
     "name": "stdout",
     "output_type": "stream",
     "text": [
      "duration in seconds: 17\n",
      "video time: 0:00:17\n"
     ]
    }
   ],
   "source": [
    "import cv2\n",
    "import datetime\n",
    "\n",
    "data = cv2.VideoCapture('lola.mp4') \n",
    "\n",
    "# count the number of frames \n",
    "frames = data.get(cv2.CAP_PROP_FRAME_COUNT) \n",
    "fps = data.get(cv2.CAP_PROP_FPS) \n",
    "  \n",
    "# calculate duration of the video \n",
    "seconds = round(frames / fps) \n",
    "video_time = datetime.timedelta(seconds=seconds) \n",
    "print(f\"duration in seconds: {seconds}\") \n",
    "print(f\"video time: {video_time}\") "
   ]
  },
  {
   "cell_type": "code",
   "execution_count": 2,
   "id": "ec5512e0",
   "metadata": {},
   "outputs": [],
   "source": []
  }
 ],
 "metadata": {
  "kernelspec": {
   "display_name": "Python 3 (ipykernel)",
   "language": "python",
   "name": "python3"
  },
  "language_info": {
   "codemirror_mode": {
    "name": "ipython",
    "version": 3
   },
   "file_extension": ".py",
   "mimetype": "text/x-python",
   "name": "python",
   "nbconvert_exporter": "python",
   "pygments_lexer": "ipython3",
   "version": "3.11.3"
  }
 },
 "nbformat": 4,
 "nbformat_minor": 5
}
